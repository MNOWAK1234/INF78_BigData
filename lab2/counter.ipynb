{
 "cells": [
  {
   "cell_type": "code",
   "execution_count": 4,
   "metadata": {},
   "outputs": [],
   "source": [
    "import pandas as pd"
   ]
  },
  {
   "cell_type": "code",
   "execution_count": 5,
   "metadata": {},
   "outputs": [
    {
     "name": "stdout",
     "output_type": "stream",
     "text": [
      "install_year\n",
      "2014    17.52\n",
      "2015    18.00\n",
      "2016    18.00\n",
      "Name: install_dockcount, dtype: float64\n"
     ]
    }
   ],
   "source": [
    "# Load the data\n",
    "file_path = \"station.csv\"\n",
    "data = pd.read_csv(file_path)\n",
    "\n",
    "# Convert 'install_date' to datetime format\n",
    "data['install_date'] = pd.to_datetime(data['install_date'], errors='coerce')\n",
    "\n",
    "# Extract the year from 'install_date'\n",
    "data['install_year'] = data['install_date'].dt.year\n",
    "\n",
    "# Group by 'install_year' and calculate the average dock count\n",
    "average_dockcount_per_year = data.groupby('install_year')['install_dockcount'].mean()\n",
    "\n",
    "# Display the result\n",
    "print(average_dockcount_per_year)"
   ]
  }
 ],
 "metadata": {
  "kernelspec": {
   "display_name": "Python 3",
   "language": "python",
   "name": "python3"
  },
  "language_info": {
   "codemirror_mode": {
    "name": "ipython",
    "version": 3
   },
   "file_extension": ".py",
   "mimetype": "text/x-python",
   "name": "python",
   "nbconvert_exporter": "python",
   "pygments_lexer": "ipython3",
   "version": "3.12.3"
  }
 },
 "nbformat": 4,
 "nbformat_minor": 2
}
