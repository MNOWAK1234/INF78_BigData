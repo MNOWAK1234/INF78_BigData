{
 "cells": [
  {
   "cell_type": "markdown",
   "id": "aee77bc5-70c8-4e06-bf1a-d9cf5b3b5d39",
   "metadata": {},
   "source": [
    "# Wprowadzenie\n",
    "\n",
    "Python jest językiem nie tylko bardzo popularnym. W pażdzierniku 2023 zarówno wg.\n",
    "\n",
    "- PYPL PopularitY of Programming Language https://pypl.github.io/PYPL.html jak i\n",
    "- TIOBE Index https://www.tiobe.com/tiobe-index/\n",
    "  zajmował on pierwsze miejsce wśród języków programowania. Co więcej, dynamika wzrostu począwszy od 2018 roku jest największa wśród wszystkich pozostałych języków programowania.\n",
    "\n",
    "Python jest przede wszystkim językiem bardzo uniwersalnym, a jego rola w ogólnie rozumianej analizie i przetwarzaniu danych z roku na rok jest coraz większa.\n",
    "\n",
    "Nic więc dziwnego, że świat Big Data, który przez lata był zarezerwowany dla Javy oraz języków, które dają się kompilować do kodu bajtowego Javy, otwiera się na Pythona (patrz Spark czy Flink).\n",
    "\n",
    "W ramach warsztatu postaramy się dokonać krótkiego przeglądu niektórych typów i bibliotek, które wykorzystywane są w Pythonie do przetwarzania danych.\n"
   ]
  },
  {
   "cell_type": "markdown",
   "id": "52ad3be0-16f5-477f-97e8-34ae58d3fa36",
   "metadata": {},
   "source": [
    "# Dane\n",
    "\n",
    "Aby przetwarzać jakieś dane, przydałoby się je mieć. Python zawiera niezliczone biblioteki, przydatne praktycznie w każdym przypadku. Również w kontekście dostępu do przykładowych danych.\n",
    "\n",
    "Przykładowe biblioteki w których można takie dane znaleźć to `PyDataset`, `seaborn` czy `sklearn` (`scikit-learn`). Te dwie ostatnie główny cel mają oczywiście inny (wizualizacja danych, ML).\n",
    "\n",
    "Przyglądnijmy się pierwszemu z pakietów.\n"
   ]
  },
  {
   "cell_type": "code",
   "execution_count": 18,
   "id": "c532c46a-48cd-4653-b37f-372c49a4c5ef",
   "metadata": {},
   "outputs": [
    {
     "name": "stderr",
     "output_type": "stream",
     "text": [
      "DEPRECATION: Loading egg at c:\\users\\miknowak\\appdata\\local\\programs\\python\\python312\\lib\\site-packages\\labelimg-1.8.6-py3.12.egg is deprecated. pip 25.1 will enforce this behaviour change. A possible replacement is to use pip for package installation. Discussion can be found at https://github.com/pypa/pip/issues/12330\n",
      "DEPRECATION: Loading egg at c:\\users\\miknowak\\appdata\\local\\programs\\python\\python312\\lib\\site-packages\\lxml-5.2.2-py3.12-win-amd64.egg is deprecated. pip 25.1 will enforce this behaviour change. A possible replacement is to use pip for package installation. Discussion can be found at https://github.com/pypa/pip/issues/12330\n"
     ]
    },
    {
     "name": "stdout",
     "output_type": "stream",
     "text": [
      "Requirement already satisfied: pydataset in c:\\users\\miknowak\\appdata\\local\\programs\\python\\python312\\lib\\site-packages (0.2.0)\n",
      "Requirement already satisfied: pandas in c:\\users\\miknowak\\appdata\\local\\programs\\python\\python312\\lib\\site-packages (from pydataset) (2.2.2)\n",
      "Requirement already satisfied: numpy>=1.26.0 in c:\\users\\miknowak\\appdata\\local\\programs\\python\\python312\\lib\\site-packages (from pandas->pydataset) (1.26.4)\n",
      "Requirement already satisfied: python-dateutil>=2.8.2 in c:\\users\\miknowak\\appdata\\local\\programs\\python\\python312\\lib\\site-packages (from pandas->pydataset) (2.9.0.post0)\n",
      "Requirement already satisfied: pytz>=2020.1 in c:\\users\\miknowak\\appdata\\local\\programs\\python\\python312\\lib\\site-packages (from pandas->pydataset) (2022.7.1)\n",
      "Requirement already satisfied: tzdata>=2022.7 in c:\\users\\miknowak\\appdata\\local\\programs\\python\\python312\\lib\\site-packages (from pandas->pydataset) (2024.1)\n",
      "Requirement already satisfied: six>=1.5 in c:\\users\\miknowak\\appdata\\local\\programs\\python\\python312\\lib\\site-packages (from python-dateutil>=2.8.2->pandas->pydataset) (1.16.0)\n"
     ]
    }
   ],
   "source": [
    "%%sh\n",
    "pip install pydataset"
   ]
  },
  {
   "cell_type": "code",
   "execution_count": 19,
   "id": "1db72a66-351f-4056-8f06-a29f181dbd25",
   "metadata": {},
   "outputs": [],
   "source": [
    "from pydataset import data"
   ]
  },
  {
   "cell_type": "markdown",
   "id": "ebb3d585-6359-4df5-a641-7bdc659f81fb",
   "metadata": {},
   "source": [
    "Zobaczmy jakie zbiory są dostępne\n"
   ]
  },
  {
   "cell_type": "code",
   "execution_count": 20,
   "id": "900b597c-ca8a-4a21-8ce4-1a905a7696e0",
   "metadata": {},
   "outputs": [
    {
     "data": {
      "text/html": [
       "<div>\n",
       "<style scoped>\n",
       "    .dataframe tbody tr th:only-of-type {\n",
       "        vertical-align: middle;\n",
       "    }\n",
       "\n",
       "    .dataframe tbody tr th {\n",
       "        vertical-align: top;\n",
       "    }\n",
       "\n",
       "    .dataframe thead th {\n",
       "        text-align: right;\n",
       "    }\n",
       "</style>\n",
       "<table border=\"1\" class=\"dataframe\">\n",
       "  <thead>\n",
       "    <tr style=\"text-align: right;\">\n",
       "      <th></th>\n",
       "      <th>dataset_id</th>\n",
       "      <th>title</th>\n",
       "    </tr>\n",
       "  </thead>\n",
       "  <tbody>\n",
       "    <tr>\n",
       "      <th>0</th>\n",
       "      <td>AirPassengers</td>\n",
       "      <td>Monthly Airline Passenger Numbers 1949-1960</td>\n",
       "    </tr>\n",
       "    <tr>\n",
       "      <th>1</th>\n",
       "      <td>BJsales</td>\n",
       "      <td>Sales Data with Leading Indicator</td>\n",
       "    </tr>\n",
       "    <tr>\n",
       "      <th>2</th>\n",
       "      <td>BOD</td>\n",
       "      <td>Biochemical Oxygen Demand</td>\n",
       "    </tr>\n",
       "    <tr>\n",
       "      <th>3</th>\n",
       "      <td>Formaldehyde</td>\n",
       "      <td>Determination of Formaldehyde</td>\n",
       "    </tr>\n",
       "    <tr>\n",
       "      <th>4</th>\n",
       "      <td>HairEyeColor</td>\n",
       "      <td>Hair and Eye Color of Statistics Students</td>\n",
       "    </tr>\n",
       "    <tr>\n",
       "      <th>...</th>\n",
       "      <td>...</td>\n",
       "      <td>...</td>\n",
       "    </tr>\n",
       "    <tr>\n",
       "      <th>752</th>\n",
       "      <td>VerbAgg</td>\n",
       "      <td>Verbal Aggression item responses</td>\n",
       "    </tr>\n",
       "    <tr>\n",
       "      <th>753</th>\n",
       "      <td>cake</td>\n",
       "      <td>Breakage Angle of Chocolate Cakes</td>\n",
       "    </tr>\n",
       "    <tr>\n",
       "      <th>754</th>\n",
       "      <td>cbpp</td>\n",
       "      <td>Contagious bovine pleuropneumonia</td>\n",
       "    </tr>\n",
       "    <tr>\n",
       "      <th>755</th>\n",
       "      <td>grouseticks</td>\n",
       "      <td>Data on red grouse ticks from Elston et al. 2001</td>\n",
       "    </tr>\n",
       "    <tr>\n",
       "      <th>756</th>\n",
       "      <td>sleepstudy</td>\n",
       "      <td>Reaction times in a sleep deprivation study</td>\n",
       "    </tr>\n",
       "  </tbody>\n",
       "</table>\n",
       "<p>757 rows × 2 columns</p>\n",
       "</div>"
      ],
      "text/plain": [
       "        dataset_id                                             title\n",
       "0    AirPassengers       Monthly Airline Passenger Numbers 1949-1960\n",
       "1          BJsales                 Sales Data with Leading Indicator\n",
       "2              BOD                         Biochemical Oxygen Demand\n",
       "3     Formaldehyde                     Determination of Formaldehyde\n",
       "4     HairEyeColor         Hair and Eye Color of Statistics Students\n",
       "..             ...                                               ...\n",
       "752        VerbAgg                  Verbal Aggression item responses\n",
       "753           cake                 Breakage Angle of Chocolate Cakes\n",
       "754           cbpp                 Contagious bovine pleuropneumonia\n",
       "755    grouseticks  Data on red grouse ticks from Elston et al. 2001\n",
       "756     sleepstudy       Reaction times in a sleep deprivation study\n",
       "\n",
       "[757 rows x 2 columns]"
      ]
     },
     "execution_count": 20,
     "metadata": {},
     "output_type": "execute_result"
    }
   ],
   "source": [
    "data()"
   ]
  },
  {
   "cell_type": "markdown",
   "id": "7d16e6c0-fe6e-499b-9fa8-5345ff921516",
   "metadata": {},
   "source": [
    "Sporo tego, przydałoby się coś wybrać - dokonać jakieś selekcji tych danych. Aby to zrobić dowiedzmy się co tak naprawdę zostało wyświetlone.\n"
   ]
  },
  {
   "cell_type": "code",
   "execution_count": 21,
   "id": "0fedbe42-4429-426c-9a49-b45a1fa18c0b",
   "metadata": {},
   "outputs": [
    {
     "data": {
      "text/plain": [
       "pandas.core.frame.DataFrame"
      ]
     },
     "execution_count": 21,
     "metadata": {},
     "output_type": "execute_result"
    }
   ],
   "source": [
    "type(data())"
   ]
  },
  {
   "cell_type": "markdown",
   "id": "ca430bbe-3ae3-4e81-9fdb-959670f81f0d",
   "metadata": {},
   "source": [
    "Do pakietu `Pandas` dojdziemy w swoim czasie, teraz skorzystamy z czegoś znacznie prostszego.\n",
    "\n",
    "Biblioteka `pytz` dostarcza informacje na temat stref czasowych.\n"
   ]
  },
  {
   "cell_type": "code",
   "execution_count": 22,
   "id": "0e6f6e93-f552-4c6d-8bf5-c378640521f9",
   "metadata": {},
   "outputs": [
    {
     "data": {
      "text/plain": [
       "list"
      ]
     },
     "execution_count": 22,
     "metadata": {},
     "output_type": "execute_result"
    }
   ],
   "source": [
    "import pytz\n",
    "\n",
    "allTZ = list(pytz.common_timezones)\n",
    "\n",
    "type(allTZ)"
   ]
  },
  {
   "cell_type": "code",
   "execution_count": 23,
   "id": "76c47fa7-7739-474d-8d8f-6acb9258b405",
   "metadata": {},
   "outputs": [
    {
     "data": {
      "text/plain": [
       "['Africa/Abidjan',\n",
       " 'Africa/Accra',\n",
       " 'Africa/Addis_Ababa',\n",
       " 'Africa/Algiers',\n",
       " 'Africa/Asmara',\n",
       " 'Africa/Bamako',\n",
       " 'Africa/Bangui',\n",
       " 'Africa/Banjul',\n",
       " 'Africa/Bissau',\n",
       " 'Africa/Blantyre']"
      ]
     },
     "execution_count": 23,
     "metadata": {},
     "output_type": "execute_result"
    }
   ],
   "source": [
    "allTZ[:10]"
   ]
  },
  {
   "cell_type": "markdown",
   "id": "e958df45-9849-4f65-ae32-42f2327537a7",
   "metadata": {},
   "source": [
    "# Listy\n",
    "\n",
    "**Zadanie 1**<br>\n",
    "Napisz funkcję `australiaZones(tzs)`, która będzie dawała w wyniku listę:\n",
    "\n",
    "- zawierającą elementy źródłowej listy `tzs`, których wartości rozpoczynają się od ciągu znaków „Australia/”)\n",
    "- w docelowych wartościach nie będzie posiadała początkowego fragmentu „Australia/”\n",
    "- będzie posortowana alfabetycznie (załóż, że źródłowe dane nie są posortowane)\n"
   ]
  },
  {
   "cell_type": "code",
   "execution_count": 24,
   "id": "61d43973-c8fc-4209-83df-d958b63c10b6",
   "metadata": {},
   "outputs": [],
   "source": [
    "def australiaZones(tzs):\n",
    "    a = \"Australia/\"\n",
    "    l = list(map(lambda tz: tz[len(a):], filter(lambda tz: tz.startswith(a), tzs)))\n",
    "    l.sort()\n",
    "    return l\n"
   ]
  },
  {
   "cell_type": "code",
   "execution_count": 25,
   "id": "e0942f22-32fc-4282-8039-391a60956f11",
   "metadata": {},
   "outputs": [
    {
     "data": {
      "text/plain": [
       "['Adelaide',\n",
       " 'Brisbane',\n",
       " 'Broken_Hill',\n",
       " 'Darwin',\n",
       " 'Eucla',\n",
       " 'Hobart',\n",
       " 'Lindeman',\n",
       " 'Lord_Howe',\n",
       " 'Melbourne',\n",
       " 'Perth',\n",
       " 'Sydney']"
      ]
     },
     "execution_count": 25,
     "metadata": {},
     "output_type": "execute_result"
    }
   ],
   "source": [
    "australiaZones(pytz.common_timezones)"
   ]
  },
  {
   "cell_type": "markdown",
   "id": "a80beb59-8f05-40fd-8810-0c8367a7f47d",
   "metadata": {},
   "source": [
    "# Słowniki\n",
    "\n",
    "**Zadanie 2**<br>\n",
    "Załóż, że każda nazwa strefy czasowej rozpoczyna się od nazwy regionu świata (ma format `RegionŚwiata/Miejsce`). <br>\n",
    "Napisz funkcję `howManyZonesInRegions(tzs)`, która dla każdego regionu wyznaczy liczbę stref czasowych, które w nim funkcjonują. <br>\n",
    "Koniecznie odrzuć te nazwy źródłowych stref (z `tzs`), które nie są zgodne z wzorcem (nie posiadają znaku „/”).\n"
   ]
  },
  {
   "cell_type": "code",
   "execution_count": 26,
   "id": "68852237-897c-488d-be14-5ab8feb67986",
   "metadata": {},
   "outputs": [],
   "source": [
    "def howManyZonesInRegions(tzs):\n",
    "    d = {}\n",
    "    tzwr = list(map(lambda tz: (tz[:tz.find(\"/\")], 1), filter(lambda tz: \"/\" in tz, tzs)))\n",
    "    for key, value in tzwr:\n",
    "        d[key] = d.get(key, 0) + value\n",
    "    return d"
   ]
  },
  {
   "cell_type": "code",
   "execution_count": 27,
   "id": "988916ec-e71b-4adf-b0c1-8508e5448200",
   "metadata": {},
   "outputs": [
    {
     "data": {
      "text/plain": [
       "{'Africa': 52,\n",
       " 'America': 144,\n",
       " 'Antarctica': 11,\n",
       " 'Arctic': 1,\n",
       " 'Asia': 83,\n",
       " 'Atlantic': 10,\n",
       " 'Australia': 11,\n",
       " 'Canada': 6,\n",
       " 'Europe': 58,\n",
       " 'Indian': 11,\n",
       " 'Pacific': 38,\n",
       " 'US': 7}"
      ]
     },
     "execution_count": 27,
     "metadata": {},
     "output_type": "execute_result"
    }
   ],
   "source": [
    "howManyZonesInRegions(pytz.common_timezones)"
   ]
  },
  {
   "cell_type": "markdown",
   "id": "6fde8634-3a14-4a45-890b-117bed2689c7",
   "metadata": {},
   "source": [
    "- Funkcja `pytz.country_names` zwraca słownik, który dla każdego symbolu (ISO Alpha 2 code) państwa zawiera jego nazwę.\n",
    "- Funkcja `pytz.country_timezones` zwraca słownik, który dla każdego symbolu (ISO Alpha 2 code) państwa zawiera listę stref czasowych, jakie na ich terenie obowiązują.\n",
    "\n",
    "**Zadanie 3**<br>\n",
    "Napisz funkcję `getCntryCode(cntryName)`, która dla nazwy państwa `cntryName` zwróci jego kod. <br>\n",
    "Napisz funkcję `howManyZones(cntryName)`, która dla nazwy państwa `cntryName` zwróci liczbę stref czasowych, które na jego terenie obowiązują. Skorzystaj z funkcji `getCntryCode`.\n"
   ]
  },
  {
   "cell_type": "code",
   "execution_count": 41,
   "id": "04dd8efe-8510-493d-b22f-69f6e5adf6d8",
   "metadata": {},
   "outputs": [],
   "source": [
    "def getCntryCode(cntryName): \n",
    "    cns = pytz.country_names  # Pobranie słownika krajów i nazw\n",
    "    \n",
    "    cntryCodes = list(cns.keys())  # Lista kodów krajów (np. 'PL', 'US')\n",
    "    cntryNames = list(cns.values())  # Lista nazw krajów (np. 'Poland', 'United States')\n",
    "    \n",
    "    # Znajdź indeks podanej nazwy kraju w liście nazw i zwróć odpowiadający mu kod\n",
    "    return cntryCodes[cntryNames.index(cntryName)]\n"
   ]
  },
  {
   "cell_type": "code",
   "execution_count": 42,
   "id": "b480721f-d00b-49fb-8927-e0bd8b119dc9",
   "metadata": {},
   "outputs": [
    {
     "data": {
      "text/plain": [
       "'PL'"
      ]
     },
     "execution_count": 42,
     "metadata": {},
     "output_type": "execute_result"
    }
   ],
   "source": [
    "getCntryCode(\"Poland\")"
   ]
  },
  {
   "cell_type": "code",
   "execution_count": 46,
   "id": "a950b726-6970-485d-98fc-08edd041dea4",
   "metadata": {},
   "outputs": [],
   "source": [
    "def howManyZones(cntryName):\n",
    "    return len(pytz.country_timezones[getCntryCode(cntryName)])\n"
   ]
  },
  {
   "cell_type": "code",
   "execution_count": 47,
   "id": "9d8ca76d-4989-4719-85f4-7e8047c3ea78",
   "metadata": {},
   "outputs": [
    {
     "data": {
      "text/plain": [
       "1"
      ]
     },
     "execution_count": 47,
     "metadata": {},
     "output_type": "execute_result"
    }
   ],
   "source": [
    "howManyZones(\"Poland\")"
   ]
  },
  {
   "cell_type": "code",
   "execution_count": 48,
   "id": "29a0ebe6-214e-4655-aa9e-0560fe1f9bd7",
   "metadata": {},
   "outputs": [
    {
     "data": {
      "text/plain": [
       "24"
      ]
     },
     "execution_count": 48,
     "metadata": {},
     "output_type": "execute_result"
    }
   ],
   "source": [
    "howManyZones(\"Canada\")"
   ]
  },
  {
   "cell_type": "markdown",
   "id": "dc3434c5-0a4a-4601-bc61-1605b89cdaf2",
   "metadata": {},
   "source": [
    "# pandas\n",
    "\n",
    "W skład biblioteki `pandas` wchodzą zarówno struktury danych jak i narzędzia które służą do przetwarzania danych.\n",
    "\n",
    "Główne typy danych to:\n",
    "\n",
    "- `Series` - indeksowana tablica wartości,\n",
    "- `DataFrame` - dwuwymiarowa tabela danych.\n"
   ]
  },
  {
   "cell_type": "code",
   "execution_count": 49,
   "id": "4a8e121b-e6c2-4ef6-81a5-708d334e5655",
   "metadata": {},
   "outputs": [
    {
     "data": {
      "text/html": [
       "<div>\n",
       "<style scoped>\n",
       "    .dataframe tbody tr th:only-of-type {\n",
       "        vertical-align: middle;\n",
       "    }\n",
       "\n",
       "    .dataframe tbody tr th {\n",
       "        vertical-align: top;\n",
       "    }\n",
       "\n",
       "    .dataframe thead th {\n",
       "        text-align: right;\n",
       "    }\n",
       "</style>\n",
       "<table border=\"1\" class=\"dataframe\">\n",
       "  <thead>\n",
       "    <tr style=\"text-align: right;\">\n",
       "      <th></th>\n",
       "      <th>dataset_id</th>\n",
       "      <th>title</th>\n",
       "    </tr>\n",
       "  </thead>\n",
       "  <tbody>\n",
       "    <tr>\n",
       "      <th>0</th>\n",
       "      <td>AirPassengers</td>\n",
       "      <td>Monthly Airline Passenger Numbers 1949-1960</td>\n",
       "    </tr>\n",
       "    <tr>\n",
       "      <th>1</th>\n",
       "      <td>BJsales</td>\n",
       "      <td>Sales Data with Leading Indicator</td>\n",
       "    </tr>\n",
       "    <tr>\n",
       "      <th>2</th>\n",
       "      <td>BOD</td>\n",
       "      <td>Biochemical Oxygen Demand</td>\n",
       "    </tr>\n",
       "    <tr>\n",
       "      <th>3</th>\n",
       "      <td>Formaldehyde</td>\n",
       "      <td>Determination of Formaldehyde</td>\n",
       "    </tr>\n",
       "    <tr>\n",
       "      <th>4</th>\n",
       "      <td>HairEyeColor</td>\n",
       "      <td>Hair and Eye Color of Statistics Students</td>\n",
       "    </tr>\n",
       "    <tr>\n",
       "      <th>...</th>\n",
       "      <td>...</td>\n",
       "      <td>...</td>\n",
       "    </tr>\n",
       "    <tr>\n",
       "      <th>752</th>\n",
       "      <td>VerbAgg</td>\n",
       "      <td>Verbal Aggression item responses</td>\n",
       "    </tr>\n",
       "    <tr>\n",
       "      <th>753</th>\n",
       "      <td>cake</td>\n",
       "      <td>Breakage Angle of Chocolate Cakes</td>\n",
       "    </tr>\n",
       "    <tr>\n",
       "      <th>754</th>\n",
       "      <td>cbpp</td>\n",
       "      <td>Contagious bovine pleuropneumonia</td>\n",
       "    </tr>\n",
       "    <tr>\n",
       "      <th>755</th>\n",
       "      <td>grouseticks</td>\n",
       "      <td>Data on red grouse ticks from Elston et al. 2001</td>\n",
       "    </tr>\n",
       "    <tr>\n",
       "      <th>756</th>\n",
       "      <td>sleepstudy</td>\n",
       "      <td>Reaction times in a sleep deprivation study</td>\n",
       "    </tr>\n",
       "  </tbody>\n",
       "</table>\n",
       "<p>757 rows × 2 columns</p>\n",
       "</div>"
      ],
      "text/plain": [
       "        dataset_id                                             title\n",
       "0    AirPassengers       Monthly Airline Passenger Numbers 1949-1960\n",
       "1          BJsales                 Sales Data with Leading Indicator\n",
       "2              BOD                         Biochemical Oxygen Demand\n",
       "3     Formaldehyde                     Determination of Formaldehyde\n",
       "4     HairEyeColor         Hair and Eye Color of Statistics Students\n",
       "..             ...                                               ...\n",
       "752        VerbAgg                  Verbal Aggression item responses\n",
       "753           cake                 Breakage Angle of Chocolate Cakes\n",
       "754           cbpp                 Contagious bovine pleuropneumonia\n",
       "755    grouseticks  Data on red grouse ticks from Elston et al. 2001\n",
       "756     sleepstudy       Reaction times in a sleep deprivation study\n",
       "\n",
       "[757 rows x 2 columns]"
      ]
     },
     "execution_count": 49,
     "metadata": {},
     "output_type": "execute_result"
    }
   ],
   "source": [
    "data()"
   ]
  },
  {
   "cell_type": "markdown",
   "id": "32113083-ed86-4b2b-8fb4-f0e8ab166666",
   "metadata": {},
   "source": [
    "Za duży wybór. Zobaczmy co udostępnia nam inna z bibliotek.\n"
   ]
  },
  {
   "cell_type": "code",
   "execution_count": 50,
   "id": "b3c9a136-ae3d-46ff-adaa-07eddc1cf720",
   "metadata": {},
   "outputs": [],
   "source": [
    "import seaborn as sns"
   ]
  },
  {
   "cell_type": "code",
   "execution_count": 51,
   "id": "2ff3b496-c2fa-492a-98ea-0004f95696c1",
   "metadata": {},
   "outputs": [
    {
     "name": "stdout",
     "output_type": "stream",
     "text": [
      "['anagrams', 'anscombe', 'attention', 'brain_networks', 'car_crashes', 'diamonds', 'dots', 'dowjones', 'exercise', 'flights', 'fmri', 'geyser', 'glue', 'healthexp', 'iris', 'mpg', 'penguins', 'planets', 'seaice', 'taxis', 'tips', 'titanic']\n"
     ]
    }
   ],
   "source": [
    "print(sns.get_dataset_names())"
   ]
  },
  {
   "cell_type": "code",
   "execution_count": 52,
   "id": "7bd383ba-a5d8-4bba-b339-07f42882212c",
   "metadata": {},
   "outputs": [
    {
     "data": {
      "text/html": [
       "<div>\n",
       "<style scoped>\n",
       "    .dataframe tbody tr th:only-of-type {\n",
       "        vertical-align: middle;\n",
       "    }\n",
       "\n",
       "    .dataframe tbody tr th {\n",
       "        vertical-align: top;\n",
       "    }\n",
       "\n",
       "    .dataframe thead th {\n",
       "        text-align: right;\n",
       "    }\n",
       "</style>\n",
       "<table border=\"1\" class=\"dataframe\">\n",
       "  <thead>\n",
       "    <tr style=\"text-align: right;\">\n",
       "      <th></th>\n",
       "      <th>species</th>\n",
       "      <th>island</th>\n",
       "      <th>bill_length_mm</th>\n",
       "      <th>bill_depth_mm</th>\n",
       "      <th>flipper_length_mm</th>\n",
       "      <th>body_mass_g</th>\n",
       "      <th>sex</th>\n",
       "    </tr>\n",
       "  </thead>\n",
       "  <tbody>\n",
       "    <tr>\n",
       "      <th>0</th>\n",
       "      <td>Adelie</td>\n",
       "      <td>Torgersen</td>\n",
       "      <td>39.1</td>\n",
       "      <td>18.7</td>\n",
       "      <td>181.0</td>\n",
       "      <td>3750.0</td>\n",
       "      <td>Male</td>\n",
       "    </tr>\n",
       "    <tr>\n",
       "      <th>1</th>\n",
       "      <td>Adelie</td>\n",
       "      <td>Torgersen</td>\n",
       "      <td>39.5</td>\n",
       "      <td>17.4</td>\n",
       "      <td>186.0</td>\n",
       "      <td>3800.0</td>\n",
       "      <td>Female</td>\n",
       "    </tr>\n",
       "    <tr>\n",
       "      <th>2</th>\n",
       "      <td>Adelie</td>\n",
       "      <td>Torgersen</td>\n",
       "      <td>40.3</td>\n",
       "      <td>18.0</td>\n",
       "      <td>195.0</td>\n",
       "      <td>3250.0</td>\n",
       "      <td>Female</td>\n",
       "    </tr>\n",
       "    <tr>\n",
       "      <th>3</th>\n",
       "      <td>Adelie</td>\n",
       "      <td>Torgersen</td>\n",
       "      <td>NaN</td>\n",
       "      <td>NaN</td>\n",
       "      <td>NaN</td>\n",
       "      <td>NaN</td>\n",
       "      <td>NaN</td>\n",
       "    </tr>\n",
       "    <tr>\n",
       "      <th>4</th>\n",
       "      <td>Adelie</td>\n",
       "      <td>Torgersen</td>\n",
       "      <td>36.7</td>\n",
       "      <td>19.3</td>\n",
       "      <td>193.0</td>\n",
       "      <td>3450.0</td>\n",
       "      <td>Female</td>\n",
       "    </tr>\n",
       "    <tr>\n",
       "      <th>...</th>\n",
       "      <td>...</td>\n",
       "      <td>...</td>\n",
       "      <td>...</td>\n",
       "      <td>...</td>\n",
       "      <td>...</td>\n",
       "      <td>...</td>\n",
       "      <td>...</td>\n",
       "    </tr>\n",
       "    <tr>\n",
       "      <th>339</th>\n",
       "      <td>Gentoo</td>\n",
       "      <td>Biscoe</td>\n",
       "      <td>NaN</td>\n",
       "      <td>NaN</td>\n",
       "      <td>NaN</td>\n",
       "      <td>NaN</td>\n",
       "      <td>NaN</td>\n",
       "    </tr>\n",
       "    <tr>\n",
       "      <th>340</th>\n",
       "      <td>Gentoo</td>\n",
       "      <td>Biscoe</td>\n",
       "      <td>46.8</td>\n",
       "      <td>14.3</td>\n",
       "      <td>215.0</td>\n",
       "      <td>4850.0</td>\n",
       "      <td>Female</td>\n",
       "    </tr>\n",
       "    <tr>\n",
       "      <th>341</th>\n",
       "      <td>Gentoo</td>\n",
       "      <td>Biscoe</td>\n",
       "      <td>50.4</td>\n",
       "      <td>15.7</td>\n",
       "      <td>222.0</td>\n",
       "      <td>5750.0</td>\n",
       "      <td>Male</td>\n",
       "    </tr>\n",
       "    <tr>\n",
       "      <th>342</th>\n",
       "      <td>Gentoo</td>\n",
       "      <td>Biscoe</td>\n",
       "      <td>45.2</td>\n",
       "      <td>14.8</td>\n",
       "      <td>212.0</td>\n",
       "      <td>5200.0</td>\n",
       "      <td>Female</td>\n",
       "    </tr>\n",
       "    <tr>\n",
       "      <th>343</th>\n",
       "      <td>Gentoo</td>\n",
       "      <td>Biscoe</td>\n",
       "      <td>49.9</td>\n",
       "      <td>16.1</td>\n",
       "      <td>213.0</td>\n",
       "      <td>5400.0</td>\n",
       "      <td>Male</td>\n",
       "    </tr>\n",
       "  </tbody>\n",
       "</table>\n",
       "<p>344 rows × 7 columns</p>\n",
       "</div>"
      ],
      "text/plain": [
       "    species     island  bill_length_mm  bill_depth_mm  flipper_length_mm  \\\n",
       "0    Adelie  Torgersen            39.1           18.7              181.0   \n",
       "1    Adelie  Torgersen            39.5           17.4              186.0   \n",
       "2    Adelie  Torgersen            40.3           18.0              195.0   \n",
       "3    Adelie  Torgersen             NaN            NaN                NaN   \n",
       "4    Adelie  Torgersen            36.7           19.3              193.0   \n",
       "..      ...        ...             ...            ...                ...   \n",
       "339  Gentoo     Biscoe             NaN            NaN                NaN   \n",
       "340  Gentoo     Biscoe            46.8           14.3              215.0   \n",
       "341  Gentoo     Biscoe            50.4           15.7              222.0   \n",
       "342  Gentoo     Biscoe            45.2           14.8              212.0   \n",
       "343  Gentoo     Biscoe            49.9           16.1              213.0   \n",
       "\n",
       "     body_mass_g     sex  \n",
       "0         3750.0    Male  \n",
       "1         3800.0  Female  \n",
       "2         3250.0  Female  \n",
       "3            NaN     NaN  \n",
       "4         3450.0  Female  \n",
       "..           ...     ...  \n",
       "339          NaN     NaN  \n",
       "340       4850.0  Female  \n",
       "341       5750.0    Male  \n",
       "342       5200.0  Female  \n",
       "343       5400.0    Male  \n",
       "\n",
       "[344 rows x 7 columns]"
      ]
     },
     "execution_count": 52,
     "metadata": {},
     "output_type": "execute_result"
    }
   ],
   "source": [
    "sns.load_dataset(\"penguins\")"
   ]
  },
  {
   "cell_type": "markdown",
   "id": "f5e6d860-ad3b-46ed-b5a4-c2d4d5ee8337",
   "metadata": {},
   "source": [
    "I tym zbiorem danych się zajmiemy. <br>\n",
    "https://github.com/allisonhorst/palmerpenguins\n"
   ]
  },
  {
   "cell_type": "code",
   "execution_count": 53,
   "id": "d71f5045-af0c-4f8c-a4af-6a988fcc872e",
   "metadata": {},
   "outputs": [
    {
     "name": "stdout",
     "output_type": "stream",
     "text": [
      "<class 'pandas.core.frame.DataFrame'>\n",
      "RangeIndex: 344 entries, 0 to 343\n",
      "Data columns (total 7 columns):\n",
      " #   Column             Non-Null Count  Dtype  \n",
      "---  ------             --------------  -----  \n",
      " 0   species            344 non-null    object \n",
      " 1   island             344 non-null    object \n",
      " 2   bill_length_mm     342 non-null    float64\n",
      " 3   bill_depth_mm      342 non-null    float64\n",
      " 4   flipper_length_mm  342 non-null    float64\n",
      " 5   body_mass_g        342 non-null    float64\n",
      " 6   sex                333 non-null    object \n",
      "dtypes: float64(4), object(3)\n",
      "memory usage: 18.9+ KB\n"
     ]
    }
   ],
   "source": [
    "penguinsDF = sns.load_dataset(\"penguins\")\n",
    "penguinsDF.info()"
   ]
  },
  {
   "cell_type": "markdown",
   "id": "1e884f9b-cc9b-42ee-b792-e119c676583b",
   "metadata": {},
   "source": [
    "**Zadanie 4** <br>\n",
    "Pobierz nazwy gatunków, płeć, wagę oraz wyspę, na której znajdowały się cztery najcięższe pingwiny.\n"
   ]
  },
  {
   "cell_type": "code",
   "execution_count": 54,
   "id": "f7137c6f-63fc-4fa3-a798-0dcc1dbaf9a9",
   "metadata": {},
   "outputs": [
    {
     "data": {
      "text/html": [
       "<div>\n",
       "<style scoped>\n",
       "    .dataframe tbody tr th:only-of-type {\n",
       "        vertical-align: middle;\n",
       "    }\n",
       "\n",
       "    .dataframe tbody tr th {\n",
       "        vertical-align: top;\n",
       "    }\n",
       "\n",
       "    .dataframe thead th {\n",
       "        text-align: right;\n",
       "    }\n",
       "</style>\n",
       "<table border=\"1\" class=\"dataframe\">\n",
       "  <thead>\n",
       "    <tr style=\"text-align: right;\">\n",
       "      <th></th>\n",
       "      <th>species</th>\n",
       "      <th>sex</th>\n",
       "      <th>body_mass_g</th>\n",
       "      <th>island</th>\n",
       "    </tr>\n",
       "  </thead>\n",
       "  <tbody>\n",
       "    <tr>\n",
       "      <th>237</th>\n",
       "      <td>Gentoo</td>\n",
       "      <td>Male</td>\n",
       "      <td>6300.0</td>\n",
       "      <td>Biscoe</td>\n",
       "    </tr>\n",
       "    <tr>\n",
       "      <th>253</th>\n",
       "      <td>Gentoo</td>\n",
       "      <td>Male</td>\n",
       "      <td>6050.0</td>\n",
       "      <td>Biscoe</td>\n",
       "    </tr>\n",
       "    <tr>\n",
       "      <th>297</th>\n",
       "      <td>Gentoo</td>\n",
       "      <td>Male</td>\n",
       "      <td>6000.0</td>\n",
       "      <td>Biscoe</td>\n",
       "    </tr>\n",
       "    <tr>\n",
       "      <th>337</th>\n",
       "      <td>Gentoo</td>\n",
       "      <td>Male</td>\n",
       "      <td>6000.0</td>\n",
       "      <td>Biscoe</td>\n",
       "    </tr>\n",
       "  </tbody>\n",
       "</table>\n",
       "</div>"
      ],
      "text/plain": [
       "    species   sex  body_mass_g  island\n",
       "237  Gentoo  Male       6300.0  Biscoe\n",
       "253  Gentoo  Male       6050.0  Biscoe\n",
       "297  Gentoo  Male       6000.0  Biscoe\n",
       "337  Gentoo  Male       6000.0  Biscoe"
      ]
     },
     "execution_count": 54,
     "metadata": {},
     "output_type": "execute_result"
    }
   ],
   "source": [
    "penguinsDF.nlargest(4, columns=[\"body_mass_g\"])[[\"species\", \"sex\", \"body_mass_g\", \"island\"]]"
   ]
  },
  {
   "cell_type": "markdown",
   "id": "a120824e-4e76-4003-a0c3-bfc1d8eca2b9",
   "metadata": {},
   "source": [
    "**Zadanie 5** <br>\n",
    "Pobierz nazwy gatunków tych pingwinów, których stosunek długości dzioba do jego wysokości (głębokości) był mniejszy niż 2.5.<br>\n",
    "Nie powtarzaj nazw gatunków.\n"
   ]
  },
  {
   "cell_type": "code",
   "execution_count": 55,
   "id": "1d9c93b9-7adc-4547-a82c-1f7bb5611ab0",
   "metadata": {},
   "outputs": [
    {
     "data": {
      "text/html": [
       "<div>\n",
       "<style scoped>\n",
       "    .dataframe tbody tr th:only-of-type {\n",
       "        vertical-align: middle;\n",
       "    }\n",
       "\n",
       "    .dataframe tbody tr th {\n",
       "        vertical-align: top;\n",
       "    }\n",
       "\n",
       "    .dataframe thead th {\n",
       "        text-align: right;\n",
       "    }\n",
       "</style>\n",
       "<table border=\"1\" class=\"dataframe\">\n",
       "  <thead>\n",
       "    <tr style=\"text-align: right;\">\n",
       "      <th></th>\n",
       "      <th>species</th>\n",
       "    </tr>\n",
       "  </thead>\n",
       "  <tbody>\n",
       "    <tr>\n",
       "      <th>0</th>\n",
       "      <td>Adelie</td>\n",
       "    </tr>\n",
       "    <tr>\n",
       "      <th>155</th>\n",
       "      <td>Chinstrap</td>\n",
       "    </tr>\n",
       "  </tbody>\n",
       "</table>\n",
       "</div>"
      ],
      "text/plain": [
       "       species\n",
       "0       Adelie\n",
       "155  Chinstrap"
      ]
     },
     "execution_count": 55,
     "metadata": {},
     "output_type": "execute_result"
    }
   ],
   "source": [
    "penguinsDF.loc[lambda df: df[\"bill_length_mm\"] / df[\"bill_depth_mm\"] < 2.5][['species']].drop_duplicates()"
   ]
  },
  {
   "cell_type": "markdown",
   "id": "2e06d43e-9ea9-470d-a7e4-eec3a0163a32",
   "metadata": {},
   "source": [
    "**Zadanie 6**<br>\n",
    "\n",
    "Dla\n",
    "\n",
    "- każdego gatunku i\n",
    "- każdej płci\n",
    "\n",
    "wyznacz\n",
    "\n",
    "- liczbę pingwinów,\n",
    "- średni stosunek długości dzioba do jego wysokości oraz\n",
    "- średnią wagę, a także\n",
    "- liczbę wysp, na których je zbadano.\n"
   ]
  },
  {
   "cell_type": "code",
   "execution_count": 58,
   "id": "9396f808-e368-4021-8878-18b1dab69431",
   "metadata": {},
   "outputs": [],
   "source": [
    "penguinsDF[\"bill_ratio\"] = penguinsDF[\"bill_length_mm\"]/penguinsDF[\"bill_depth_mm\"]"
   ]
  },
  {
   "cell_type": "code",
   "execution_count": null,
   "id": "5fe899ec-7ae3-4d39-95f7-499750320ce0",
   "metadata": {},
   "outputs": [
    {
     "data": {
      "text/html": [
       "<div>\n",
       "<style scoped>\n",
       "    .dataframe tbody tr th:only-of-type {\n",
       "        vertical-align: middle;\n",
       "    }\n",
       "\n",
       "    .dataframe tbody tr th {\n",
       "        vertical-align: top;\n",
       "    }\n",
       "\n",
       "    .dataframe thead th {\n",
       "        text-align: right;\n",
       "    }\n",
       "</style>\n",
       "<table border=\"1\" class=\"dataframe\">\n",
       "  <thead>\n",
       "    <tr style=\"text-align: right;\">\n",
       "      <th></th>\n",
       "      <th></th>\n",
       "      <th>how_many</th>\n",
       "      <th>mean_bill_ratio</th>\n",
       "      <th>mean_mass</th>\n",
       "      <th>unique_islands</th>\n",
       "    </tr>\n",
       "    <tr>\n",
       "      <th>species</th>\n",
       "      <th>sex</th>\n",
       "      <th></th>\n",
       "      <th></th>\n",
       "      <th></th>\n",
       "      <th></th>\n",
       "    </tr>\n",
       "  </thead>\n",
       "  <tbody>\n",
       "    <tr>\n",
       "      <th rowspan=\"2\" valign=\"top\">Adelie</th>\n",
       "      <th>Female</th>\n",
       "      <td>73</td>\n",
       "      <td>2.119121</td>\n",
       "      <td>3368.835616</td>\n",
       "      <td>3</td>\n",
       "    </tr>\n",
       "    <tr>\n",
       "      <th>Male</th>\n",
       "      <td>73</td>\n",
       "      <td>2.123835</td>\n",
       "      <td>4043.493151</td>\n",
       "      <td>3</td>\n",
       "    </tr>\n",
       "    <tr>\n",
       "      <th rowspan=\"2\" valign=\"top\">Chinstrap</th>\n",
       "      <th>Female</th>\n",
       "      <td>34</td>\n",
       "      <td>2.651010</td>\n",
       "      <td>3527.205882</td>\n",
       "      <td>1</td>\n",
       "    </tr>\n",
       "    <tr>\n",
       "      <th>Male</th>\n",
       "      <td>34</td>\n",
       "      <td>2.656501</td>\n",
       "      <td>3938.970588</td>\n",
       "      <td>1</td>\n",
       "    </tr>\n",
       "    <tr>\n",
       "      <th rowspan=\"2\" valign=\"top\">Gentoo</th>\n",
       "      <th>Female</th>\n",
       "      <td>58</td>\n",
       "      <td>3.202391</td>\n",
       "      <td>4679.741379</td>\n",
       "      <td>1</td>\n",
       "    </tr>\n",
       "    <tr>\n",
       "      <th>Male</th>\n",
       "      <td>61</td>\n",
       "      <td>3.152081</td>\n",
       "      <td>5484.836066</td>\n",
       "      <td>1</td>\n",
       "    </tr>\n",
       "  </tbody>\n",
       "</table>\n",
       "</div>"
      ],
      "text/plain": [
       "                  how_many  mean_bill_ratio    mean_mass  unique_islands\n",
       "species   sex                                                           \n",
       "Adelie    Female        73         2.119121  3368.835616               3\n",
       "          Male          73         2.123835  4043.493151               3\n",
       "Chinstrap Female        34         2.651010  3527.205882               1\n",
       "          Male          34         2.656501  3938.970588               1\n",
       "Gentoo    Female        58         3.202391  4679.741379               1\n",
       "          Male          61         3.152081  5484.836066               1"
      ]
     },
     "execution_count": 57,
     "metadata": {},
     "output_type": "execute_result"
    }
   ],
   "source": [
    "penguinsDF.groupby([\"species\", \"sex\"]).agg(\n",
    "    how_many=(\"island\", \"count\"), \n",
    "    mean_bill_ratio=(\"bill_ratio\", \"mean\"),\n",
    "    mean_mass=(\"body_mass_g\", \"mean\"),\n",
    "    unique_islands=(\"island\", \"nunique\")\n",
    ")\n"
   ]
  }
 ],
 "metadata": {
  "kernelspec": {
   "display_name": "Python 3",
   "language": "python",
   "name": "python3"
  },
  "language_info": {
   "codemirror_mode": {
    "name": "ipython",
    "version": 3
   },
   "file_extension": ".py",
   "mimetype": "text/x-python",
   "name": "python",
   "nbconvert_exporter": "python",
   "pygments_lexer": "ipython3",
   "version": "3.12.4"
  }
 },
 "nbformat": 4,
 "nbformat_minor": 5
}
